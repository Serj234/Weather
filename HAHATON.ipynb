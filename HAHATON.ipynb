{
  "nbformat": 4,
  "nbformat_minor": 0,
  "metadata": {
    "colab": {
      "provenance": []
    },
    "kernelspec": {
      "name": "python3",
      "display_name": "Python 3"
    },
    "language_info": {
      "name": "python"
    }
  },
  "cells": [
    {
      "cell_type": "code",
      "execution_count": 14,
      "metadata": {
        "id": "I6fhEdpGrLup"
      },
      "outputs": [],
      "source": [
        "import numpy as np\n",
        "import pandas as pd\n",
        "import os\n",
        "\n",
        "#open and load data\n",
        "if not os.path.exists('weather-forecast-hackathon.zip'):\n",
        "  !wget https://drive.google.com/uc?id=1Vun7-8vmYbSr4COqb1nAGogEIAzInxab -O weather-forecast-hackathon.zip\n",
        "  !unzip weather-forecast-hackathon.zip\n",
        "  !ls -l\n",
        "\n",
        "data = ['temperature.npy', 'pressure.npy', 'humidity.npy', 'wind_speed.npy', 'wind_dir.npy', 'cloud_cover.npy']\n",
        "for i in range(len(data)):\n",
        "  data[i] = np.load(data[i])"
      ]
    },
    {
      "cell_type": "code",
      "source": [
        "x_orig = np.stack(data, axis=-1)\n",
        "x_orig = x_orig.reshape(-1, 6)\n",
        "y = x_orig[-10:, :]\n",
        "x = x_orig[-20:-10, :]"
      ],
      "metadata": {
        "id": "vneJircr4KKs"
      },
      "execution_count": 15,
      "outputs": []
    },
    {
      "cell_type": "code",
      "source": [
        "from sklearn.model_selection import  train_test_split\n",
        "\n",
        "x_train, x_test, y_train, y_test = train_test_split(x,y, test_size=0.1)"
      ],
      "metadata": {
        "id": "mjJxIHjzz1Ew"
      },
      "execution_count": 16,
      "outputs": []
    },
    {
      "cell_type": "code",
      "source": [
        "from sklearn.ensemble import RandomForestRegressor\n",
        "from sklearn.metrics import mean_absolute_percentage_error\n",
        "\n",
        "model = RandomForestRegressor()\n",
        "model.fit(x_train, y_train)\n",
        "\n",
        "y_pred = model.predict(x_test)\n",
        "print(\"MAPE: \", mean_absolute_percentage_error(y_test, y_pred))"
      ],
      "metadata": {
        "colab": {
          "base_uri": "https://localhost:8080/"
        },
        "id": "bRWkicwRRlF8",
        "outputId": "1aacf5a7-06c2-4123-e673-f268f97c0d57"
      },
      "execution_count": 17,
      "outputs": [
        {
          "output_type": "stream",
          "name": "stdout",
          "text": [
            "MAPE:  0.2109135321471833\n"
          ]
        }
      ]
    },
    {
      "cell_type": "code",
      "source": [
        "prediction = model.predict(x_orig)[:4500, :]"
      ],
      "metadata": {
        "id": "rG7bRWjpT7OL"
      },
      "execution_count": 18,
      "outputs": []
    },
    {
      "cell_type": "code",
      "source": [
        "solution = pd.DataFrame(prediction, columns=[\"temperature\", \"pressure\", \"humidity\", \"wind_speed\", \"wind_dir\", \"cloud_cover\"])\n",
        "solution.to_csv(\"solution.csv\", index_label=\"ID\")"
      ],
      "metadata": {
        "id": "6L41ksIxaiSd"
      },
      "execution_count": 19,
      "outputs": []
    }
  ]
}